{
 "cells": [
  {
   "cell_type": "code",
   "execution_count": 1,
   "metadata": {},
   "outputs": [],
   "source": [
    "import torch\n",
    "import torchvision\n",
    "import os\n",
    "import pickle\n",
    "\n",
    "from dataset_operations import InputDataset, custom_collate_fn, get_transform, trainModel, read_mean_std\n",
    "\n",
    "tile_size = 512\n",
    "\n",
    "parent_dir = \"rois2/\"\n",
    "img_dir = parent_dir + \"images/\"\n",
    "tile_dir = parent_dir + \"tiles/\"\n",
    "model_dir = parent_dir + \"models/\""
   ]
  },
  {
   "cell_type": "code",
   "execution_count": null,
   "metadata": {},
   "outputs": [],
   "source": [
    "mean, std = read_mean_std(parent_dir + 'images/')\n",
    "\n",
    "val_dataloader = pickle.load(open(model_dir + 'val_dataloader.pkl', 'rb'))\n",
    "full_dataloader = pickle.load(open(model_dir + \"full_dataloader.pkl\", \"rb\"))\n",
    "\n",
    "print(len(full_dataloader))\n",
    "print(len(val_dataloader))"
   ]
  },
  {
   "cell_type": "code",
   "execution_count": 3,
   "metadata": {},
   "outputs": [],
   "source": [
    "model = torchvision.models.detection.ssdlite320_mobilenet_v3_large(num_classes=2)\n",
    "model = model.to('cuda')\n",
    "model.load_state_dict(torch.load(model_dir + '/round1/2024_09_16 penalty-2.0/round1_model_epoch4.pth'))\n",
    "epoch_begin = 1\n"
   ]
  },
  {
   "cell_type": "code",
   "execution_count": null,
   "metadata": {},
   "outputs": [],
   "source": [
    "trainModel(model = model, \n",
    "           parent_dir=parent_dir, \n",
    "           train_dataloader=full_dataloader, \n",
    "           val_dataloader=val_dataloader, \n",
    "           epochs_num=20,\n",
    "           epoch_begin=epoch_begin, \n",
    "           nms_thr=0.2, \n",
    "           iou_thr=0.5, \n",
    "           device='cuda',\n",
    "           chkpt_name='round2_model',\n",
    "           loss_penalty=2\n",
    "           )"
   ]
  }
 ],
 "metadata": {
  "kernelspec": {
   "display_name": "2024summer",
   "language": "python",
   "name": "python3"
  },
  "language_info": {
   "codemirror_mode": {
    "name": "ipython",
    "version": 3
   },
   "file_extension": ".py",
   "mimetype": "text/x-python",
   "name": "python",
   "nbconvert_exporter": "python",
   "pygments_lexer": "ipython3",
   "version": "3.10.14"
  }
 },
 "nbformat": 4,
 "nbformat_minor": 2
}
