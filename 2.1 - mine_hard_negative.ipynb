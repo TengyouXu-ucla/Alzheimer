{
 "cells": [
  {
   "cell_type": "code",
   "execution_count": 1,
   "metadata": {},
   "outputs": [],
   "source": [
    "import os\n",
    "from dataset_operations import generate_tiles, load_inputs, InputDataset,get_transform,read_mean_std,custom_collate_fn,calculate_mean_std\n",
    "from utils import imread\n",
    "import pandas as pd\n",
    "from torch.utils.data import DataLoader\n",
    "\n",
    "parent_dir = \"rois2/\"\n",
    "img_dir = parent_dir + \"images/\"\n",
    "label_dir = parent_dir + \"labels/\"\n",
    "\n",
    "model_dir = parent_dir + \"models/\"\n",
    "false_positives_dir = parent_dir + \"tiles/false_positives/\"\n",
    "false_positives_images_dir = false_positives_dir + 'images/'\n",
    "false_positives_labels_dir = false_positives_dir + 'labels/'\n",
    "\n",
    "false_negatives_dir = parent_dir + \"tiles/false_negatives/\"\n",
    "false_negatives_images_dir = false_negatives_dir + 'images/'\n",
    "false_negatives_labels_dir = false_negatives_dir + 'labels/'\n",
    "\n",
    "negatives_dir = parent_dir + \"tiles/negatives/\"\n",
    "negatives_images_dir = negatives_dir + 'images/'\n",
    "negatives_labels_dir = negatives_dir + 'labels/'\n",
    "\n",
    "tile_dir = parent_dir + \"tiles/\"\n",
    "train_tile_dir = tile_dir + \"train/\"\n",
    "val_tile_dir = tile_dir + \"val/\"\n"
   ]
  },
  {
   "cell_type": "code",
   "execution_count": 2,
   "metadata": {},
   "outputs": [],
   "source": [
    "os.makedirs(false_positives_dir, exist_ok=True)\n",
    "os.makedirs(false_positives_images_dir, exist_ok=True)\n",
    "os.makedirs(false_positives_labels_dir, exist_ok=True)\n",
    "\n",
    "os.makedirs(false_negatives_dir, exist_ok=True)\n",
    "os.makedirs(false_negatives_images_dir, exist_ok=True)\n",
    "os.makedirs(false_negatives_labels_dir, exist_ok=True)\n",
    "\n",
    "os.makedirs(negatives_dir, exist_ok=True)\n",
    "os.makedirs(negatives_images_dir, exist_ok=True)\n",
    "os.makedirs(negatives_labels_dir, exist_ok=True)\n"
   ]
  },
  {
   "cell_type": "code",
   "execution_count": 3,
   "metadata": {},
   "outputs": [],
   "source": [
    "# clean & reset negative tile image directory\n",
    "for file in os.listdir(false_positives_images_dir):\n",
    "    os.remove(false_positives_images_dir + file)\n",
    "    \n",
    "for file in os.listdir(false_negatives_images_dir):\n",
    "    os.remove(false_negatives_images_dir + file)\n",
    "    \n",
    "for file in os.listdir(negatives_images_dir):\n",
    "    os.remove(negatives_images_dir + file)\n",
    "    \n",
    "for file in os.listdir(negatives_labels_dir):\n",
    "    os.remove(negatives_labels_dir + file)"
   ]
  },
  {
   "cell_type": "markdown",
   "metadata": {},
   "source": [
    "mine hard negative sample"
   ]
  },
  {
   "cell_type": "code",
   "execution_count": 4,
   "metadata": {},
   "outputs": [
    {
     "name": "stdout",
     "output_type": "stream",
     "text": [
      "334\n",
      "334\n"
     ]
    }
   ],
   "source": [
    "# take the top 10% high-score ones of the false positives and generate tiles \n",
    "\n",
    "false_pos_roi_paths = []\n",
    "\n",
    "for dirpath, dirnames, filenames in os.walk(false_positives_labels_dir):\n",
    "    for filename in filenames:\n",
    "        if filename.lower().endswith('.txt'):\n",
    "            roi_name = filename.split('.')[0]+'.png'\n",
    "            roi_path = img_dir + roi_name\n",
    "            false_pos_roi_paths.append(roi_path) \n",
    "print(len(false_pos_roi_paths))\n",
    "\n",
    "false_neg_roi_paths = []\n",
    "\n",
    "for dirpath, dirnames, filenames in os.walk(false_negatives_labels_dir):\n",
    "    for filename in filenames:\n",
    "        if filename.lower().endswith('.txt'):\n",
    "            roi_name = filename.split('.')[0]+'.png'\n",
    "            roi_path = img_dir + roi_name\n",
    "            false_neg_roi_paths.append(roi_path) \n",
    "print(len(false_neg_roi_paths))\n",
    "\n",
    "        \n",
    "    "
   ]
  },
  {
   "cell_type": "code",
   "execution_count": 5,
   "metadata": {},
   "outputs": [
    {
     "name": "stderr",
     "output_type": "stream",
     "text": [
      "100%|██████████| 334/334 [1:12:02<00:00, 12.94s/it]\n"
     ]
    }
   ],
   "source": [
    "false_pos_df = generate_tiles(roi_fps=false_pos_roi_paths,roi_label_dir=None, tile_label_dir= false_positives_labels_dir,tile_dir = negatives_dir, negatives_only=True,negative_label_ratio=0.05,negatives_boxes=True,to_csv=False)\n",
    "    "
   ]
  },
  {
   "cell_type": "code",
   "execution_count": 6,
   "metadata": {},
   "outputs": [
    {
     "name": "stderr",
     "output_type": "stream",
     "text": [
      "100%|██████████| 334/334 [02:58<00:00,  1.87it/s]\n"
     ]
    }
   ],
   "source": [
    "false_neg_df = generate_tiles(roi_fps=false_neg_roi_paths,roi_label_dir=None, tile_label_dir = false_negatives_labels_dir,tile_dir= negatives_dir, negatives_only=False,negative_ratio=0,negative_label_ratio=1,negatives_boxes=False,to_csv=False)\n",
    " "
   ]
  },
  {
   "cell_type": "code",
   "execution_count": 7,
   "metadata": {},
   "outputs": [
    {
     "name": "stdout",
     "output_type": "stream",
     "text": [
      "710619\n",
      "710619\n"
     ]
    }
   ],
   "source": [
    "negative_inputs = load_inputs(negatives_dir)\n",
    "print(len(negative_inputs))"
   ]
  },
  {
   "cell_type": "code",
   "execution_count": 8,
   "metadata": {},
   "outputs": [
    {
     "name": "stdout",
     "output_type": "stream",
     "text": [
      "28621\n",
      "6140\n"
     ]
    }
   ],
   "source": [
    "train_inputs = load_inputs(train_tile_dir)\n",
    "val_inputs = load_inputs(val_tile_dir)\n",
    "full_train_inputs = train_inputs + negative_inputs"
   ]
  },
  {
   "cell_type": "code",
   "execution_count": 9,
   "metadata": {},
   "outputs": [],
   "source": [
    "# # test for iterating the images in full_train_inputs\n",
    "# for item in full_train_inputs:\n",
    "#     img_fp = item['image']\n",
    "#     print(img_fp)\n",
    "#     img = imread(img_fp)"
   ]
  },
  {
   "cell_type": "code",
   "execution_count": 9,
   "metadata": {},
   "outputs": [
    {
     "name": "stdout",
     "output_type": "stream",
     "text": [
      "mean:  [0.77296131, 0.71338682, 0.68258603]\n",
      "std:  [0.16751114, 0.19680141, 0.21965831]\n",
      "mean:  [0.77296131, 0.71338682, 0.68258603]\n",
      "std:  [0.16751114, 0.19680141, 0.21965831]\n",
      "11551\n"
     ]
    }
   ],
   "source": [
    "mean, std = read_mean_std(parent_dir + 'images/')\n",
    "print('mean: ', mean)\n",
    "print('std: ', std)    \n",
    "    \n",
    "full_dataset = InputDataset(full_train_inputs, mean,std,'A')\n",
    "full_dataloader = DataLoader(full_dataset, batch_size=64, shuffle=True, num_workers=0,collate_fn=custom_collate_fn)\n",
    "\n",
    "print(len(full_dataloader))"
   ]
  },
  {
   "cell_type": "code",
   "execution_count": 10,
   "metadata": {},
   "outputs": [],
   "source": [
    "import pickle\n",
    "pickle.dump(full_dataloader, open(model_dir + \"full_dataloader.pkl\", \"wb\"))"
   ]
  }
 ],
 "metadata": {
  "kernelspec": {
   "display_name": "2024summer",
   "language": "python",
   "name": "python3"
  },
  "language_info": {
   "codemirror_mode": {
    "name": "ipython",
    "version": 3
   },
   "file_extension": ".py",
   "mimetype": "text/x-python",
   "name": "python",
   "nbconvert_exporter": "python",
   "pygments_lexer": "ipython3",
   "version": "3.10.14"
  }
 },
 "nbformat": 4,
 "nbformat_minor": 2
}
